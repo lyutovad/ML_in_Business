{
 "cells": [
  {
   "cell_type": "markdown",
   "metadata": {},
   "source": [
    "### Домашнее задание\n",
    "\n",
    "1. скачать набор данных маркетинговых кампаний отсюда https://www.kaggle.com/davinwijaya/customer-retention\n",
    "2. там поле conversion - это целевая переменная, а offer - коммуникация. Переименовать поля (conversion -> target, offer -> treatment) и привести поле treatment к бинарному виду (1 или 0, т.е было какое-то предложение или нет) - значение No Offer означает отсутствие коммуникации, а все остальные - наличие.\n",
    "3. сделать разбиение набора данных не тренировочную и тестовую выборки\n",
    "4. сделать feature engineering на ваше усмотрение (допускается свобода выбора методов)\n",
    "5. провести uplift-моделирование 3 способами: одна модель с признаком коммуникации (S learner), модель с трансформацией таргета (трансформация классов п. 2. 1) и вариант с двумя независимыми моделями\n",
    "6. в конце вывести единую таблицу сравнения метрик uplift@10%, uplift@20% этих 3 моделей\n",
    
   ]
  },
  {
   "cell_type": "code",
   "execution_count": 1,
   "metadata": {},
   "outputs": [],
   "source": [
    "%matplotlib inline\n",
    "\n",
    "import pandas as pd; pd.set_option('display.max_columns', None)\n",
    "from sklearn.model_selection import train_test_split\n",
    "\n",
    "from sklift.metrics import uplift_at_k\n",
    "from sklift.viz import plot_uplift_preds\n",
    "from sklift.models import SoloModel\n",
    "\n",
    "from catboost import CatBoostClassifier\n",
    "\n",
    "\n",
    "from IPython.display import Image\n",
    "\n",
    "from sklift.models import ClassTransformation\n",
    "from sklift.models import TwoModels\n"
   ]
  },
  {
   "cell_type": "code",
   "execution_count": 2,
   "metadata": {},
   "outputs": [],
   "source": [
    "df = pd.read_csv('data/data.csv')"
   ]
  },
  {
   "cell_type": "code",
   "execution_count": 3,
   "metadata": {},
   "outputs": [
    {
     "data": {
      "text/html": [
       "<div>\n",
       "<style scoped>\n",
       "    .dataframe tbody tr th:only-of-type {\n",
       "        vertical-align: middle;\n",
       "    }\n",
       "\n",
       "    .dataframe tbody tr th {\n",
       "        vertical-align: top;\n",
       "    }\n",
       "\n",
       "    .dataframe thead th {\n",
       "        text-align: right;\n",
       "    }\n",
       "</style>\n",
       "<table border=\"1\" class=\"dataframe\">\n",
       "  <thead>\n",
       "    <tr style=\"text-align: right;\">\n",
       "      <th></th>\n",
       "      <th>recency</th>\n",
       "      <th>history</th>\n",
       "      <th>used_discount</th>\n",
       "      <th>used_bogo</th>\n",
       "      <th>zip_code</th>\n",
       "      <th>is_referral</th>\n",
       "      <th>channel</th>\n",
       "      <th>offer</th>\n",
       "      <th>conversion</th>\n",
       "    </tr>\n",
       "  </thead>\n",
       "  <tbody>\n",
       "    <tr>\n",
       "      <th>0</th>\n",
       "      <td>10</td>\n",
       "      <td>142.44</td>\n",
       "      <td>1</td>\n",
       "      <td>0</td>\n",
       "      <td>Surburban</td>\n",
       "      <td>0</td>\n",
       "      <td>Phone</td>\n",
       "      <td>Buy One Get One</td>\n",
       "      <td>0</td>\n",
       "    </tr>\n",
       "  </tbody>\n",
       "</table>\n",
       "</div>"
      ],
      "text/plain": [
       "   recency  history  used_discount  used_bogo   zip_code  is_referral channel  \\\n",
       "0       10   142.44              1          0  Surburban            0   Phone   \n",
       "\n",
       "             offer  conversion  \n",
       "0  Buy One Get One           0  "
      ]
     },
     "execution_count": 3,
     "metadata": {},
     "output_type": "execute_result"
    }
   ],
   "source": [
    "df.head(1)"
   ]
  },
  {
   "cell_type": "code",
   "execution_count": 4,
   "metadata": {},
   "outputs": [],
   "source": [
    "df.rename(columns=\n",
    "          {'conversion':'target',\n",
    "           'offer':'treatment'},\n",
    "         inplace=True)"
   ]
  },
  {
   "cell_type": "code",
   "execution_count": 5,
   "metadata": {},
   "outputs": [
    {
     "data": {
      "text/html": [
       "<div>\n",
       "<style scoped>\n",
       "    .dataframe tbody tr th:only-of-type {\n",
       "        vertical-align: middle;\n",
       "    }\n",
       "\n",
       "    .dataframe tbody tr th {\n",
       "        vertical-align: top;\n",
       "    }\n",
       "\n",
       "    .dataframe thead th {\n",
       "        text-align: right;\n",
       "    }\n",
       "</style>\n",
       "<table border=\"1\" class=\"dataframe\">\n",
       "  <thead>\n",
       "    <tr style=\"text-align: right;\">\n",
       "      <th></th>\n",
       "      <th>recency</th>\n",
       "      <th>history</th>\n",
       "      <th>used_discount</th>\n",
       "      <th>used_bogo</th>\n",
       "      <th>zip_code</th>\n",
       "      <th>is_referral</th>\n",
       "      <th>channel</th>\n",
       "      <th>treatment</th>\n",
       "      <th>target</th>\n",
       "    </tr>\n",
       "  </thead>\n",
       "  <tbody>\n",
       "    <tr>\n",
       "      <th>0</th>\n",
       "      <td>10</td>\n",
       "      <td>142.44</td>\n",
       "      <td>1</td>\n",
       "      <td>0</td>\n",
       "      <td>Surburban</td>\n",
       "      <td>0</td>\n",
       "      <td>Phone</td>\n",
       "      <td>Buy One Get One</td>\n",
       "      <td>0</td>\n",
       "    </tr>\n",
       "  </tbody>\n",
       "</table>\n",
       "</div>"
      ],
      "text/plain": [
       "   recency  history  used_discount  used_bogo   zip_code  is_referral channel  \\\n",
       "0       10   142.44              1          0  Surburban            0   Phone   \n",
       "\n",
       "         treatment  target  \n",
       "0  Buy One Get One       0  "
      ]
     },
     "execution_count": 5,
     "metadata": {},
     "output_type": "execute_result"
    }
   ],
   "source": [
    "df.head(1)"
   ]
  },
  {
   "cell_type": "code",
   "execution_count": 6,
   "metadata": {},
   "outputs": [
    {
     "data": {
      "text/plain": [
       "array(['Buy One Get One', 'No Offer', 'Discount'], dtype=object)"
      ]
     },
     "execution_count": 6,
     "metadata": {},
     "output_type": "execute_result"
    }
   ],
   "source": [
    "df['treatment'].unique()"
   ]
  },
  {
   "cell_type": "code",
   "execution_count": 7,
   "metadata": {},
   "outputs": [],
   "source": [
    "treatment_mapping= {\n",
    "    'Buy One Get One': 1,\n",
    "    'Discount': 1,\n",
    "    'No Offer': 0\n",
    "}\n",
    "df['treatment'] = df['treatment'].map(treatment_mapping)"
   ]
  },
  {
   "cell_type": "code",
   "execution_count": 8,
   "metadata": {},
   "outputs": [
    {
     "name": "stdout",
     "output_type": "stream",
     "text": [
      "<class 'pandas.core.frame.DataFrame'>\n",
      "RangeIndex: 64000 entries, 0 to 63999\n",
      "Data columns (total 9 columns):\n",
      " #   Column         Non-Null Count  Dtype  \n",
      "---  ------         --------------  -----  \n",
      " 0   recency        64000 non-null  int64  \n",
      " 1   history        64000 non-null  float64\n",
      " 2   used_discount  64000 non-null  int64  \n",
      " 3   used_bogo      64000 non-null  int64  \n",
      " 4   zip_code       64000 non-null  object \n",
      " 5   is_referral    64000 non-null  int64  \n",
      " 6   channel        64000 non-null  object \n",
      " 7   treatment      64000 non-null  int64  \n",
      " 8   target         64000 non-null  int64  \n",
      "dtypes: float64(1), int64(6), object(2)\n",
      "memory usage: 4.4+ MB\n"
     ]
    }
   ],
   "source": [
    "df.info()"
   ]
  },
  {
   "cell_type": "code",
   "execution_count": 9,
   "metadata": {},
   "outputs": [
    {
     "data": {
      "text/plain": [
       "Index(['recency', 'history', 'used_discount', 'used_bogo', 'zip_code',\n",
       "       'is_referral', 'channel', 'treatment', 'target'],\n",
       "      dtype='object')"
      ]
     },
     "execution_count": 9,
     "metadata": {},
     "output_type": "execute_result"
    }
   ],
   "source": [
    "df.columns"
   ]
  },
  {
   "cell_type": "code",
   "execution_count": 10,
   "metadata": {},
   "outputs": [],
   "source": [
    "num_features = ['recency', 'history', 'used_discount', 'used_bogo', 'is_referral', 'treatment']\n",
    "cat_features = ['zip_code', 'channel']\n",
    "target = 'target'\n",
    "\n",
    "all_features = num_features+cat_features"
   ]
  },
  {
   "cell_type": "code",
   "execution_count": 11,
   "metadata": {},
   "outputs": [],
   "source": [
    "X_train, X_test, y_train, y_test = train_test_split(df[all_features], df[target], test_size = 0.3, random_state = 42)"
   ]
  },
  {
   "cell_type": "code",
   "execution_count": 12,
   "metadata": {},
   "outputs": [
    {
     "data": {
      "text/plain": [
       "Surburban    28776\n",
       "Urban        25661\n",
       "Rural         9563\n",
       "Name: zip_code, dtype: int64"
      ]
     },
     "execution_count": 12,
     "metadata": {},
     "output_type": "execute_result"
    }
   ],
   "source": [
    "df['zip_code'].value_counts()"
   ]
  },
  {
   "cell_type": "code",
   "execution_count": 13,
   "metadata": {},
   "outputs": [
    {
     "data": {
      "text/plain": [
       "Web             28217\n",
       "Phone           28021\n",
       "Multichannel     7762\n",
       "Name: channel, dtype: int64"
      ]
     },
     "execution_count": 13,
     "metadata": {},
     "output_type": "execute_result"
    }
   ],
   "source": [
    "df['channel'].value_counts()"
   ]
  },
  {
   "cell_type": "code",
   "execution_count": 14,
   "metadata": {},
   "outputs": [
    {
     "data": {
      "text/plain": [
       "count    44800.000000\n",
       "mean       241.894206\n",
       "std        255.238863\n",
       "min         29.990000\n",
       "25%         64.720000\n",
       "50%        158.205000\n",
       "75%        325.267500\n",
       "max       3215.970000\n",
       "Name: history, dtype: float64"
      ]
     },
     "execution_count": 14,
     "metadata": {},
     "output_type": "execute_result"
    }
   ],
   "source": [
    "X_train['history'].describe()"
   ]
  },
  {
   "cell_type": "code",
   "execution_count": 15,
   "metadata": {},
   "outputs": [
    {
     "data": {
      "text/plain": [
       "<matplotlib.axes._subplots.AxesSubplot at 0x12554764688>"
      ]
     },
     "execution_count": 15,
     "metadata": {},
     "output_type": "execute_result"
    },
    {
     "data": {
      "image/png": "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\n",
      "text/plain": [
       "<Figure size 432x288 with 1 Axes>"
      ]
     },
     "metadata": {
      "needs_background": "light"
     },
     "output_type": "display_data"
    }
   ],
   "source": [
    "X_train.plot.scatter('history', 'recency')"
   ]
  },
  {
   "cell_type": "code",
   "execution_count": 16,
   "metadata": {},
   "outputs": [
    {
     "data": {
      "text/plain": [
       "<matplotlib.axes._subplots.AxesSubplot at 0x1255484abc8>"
      ]
     },
     "execution_count": 16,
     "metadata": {},
     "output_type": "execute_result"
    },
    {
     "data": {
      "image/png": "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\n",
      "text/plain": [
       "<Figure size 432x288 with 1 Axes>"
      ]
     },
     "metadata": {
      "needs_background": "light"
     },
     "output_type": "display_data"
    }
   ],
   "source": [
    "X_train.history.plot.hist(bins=30)"
   ]
  },
  {
   "cell_type": "code",
   "execution_count": 17,
   "metadata": {},
   "outputs": [],
   "source": [
    "def change_history(df):\n",
    "    df.loc[df['history']>2500, 'history'] = df.loc[df['history']<2500, 'history'].median()\n",
    "    return df\n",
    "\n",
    "X_test = change_history(X_test)\n",
    "X_train = change_history(X_train)"
   ]
  },
  {
   "cell_type": "code",
   "execution_count": 18,
   "metadata": {},
   "outputs": [],
   "source": [
    "treat_train = X_train['treatment']\n",
    "treat_test = X_test['treatment']\n",
    "models_results = {\n",
    "    'approach': [],\n",
    "    'uplift@30%': []\n",
    "}\n",
    "models_results_10 = {\n",
    "    'approach': [],\n",
    "    'uplift@10%': []\n",
    "}\n",
    "models_results_20 = {\n",
    "    'approach': [],\n",
    "    'uplift@20%': []\n",
    "}"
   ]
  },
  {
   "cell_type": "markdown",
   "metadata": {},
   "source": [
    "#### Одна модель с признаком коммуникации"
   ]
  },
  {
   "cell_type": "code",
   "execution_count": 19,
   "metadata": {},
   "outputs": [
    {
     "data": {
      "image/png": "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\n",
      "text/plain": [
       "<Figure size 1440x504 with 3 Axes>"
      ]
     },
     "metadata": {
      "needs_background": "light"
     },
     "output_type": "display_data"
    }
   ],
   "source": [
    "sm = SoloModel(CatBoostClassifier(iterations=20, thread_count=2, random_state=42, silent=True))\n",
    "sm = sm.fit(X_train, y_train, treat_train, estimator_fit_params={'cat_features': cat_features})\n",
    "\n",
    "uplift_sm = sm.predict(X_test)\n",
    "\n",
    "sm_score = uplift_at_k(y_true=y_test, uplift=uplift_sm, treatment=treat_test, strategy='by_group', k=0.3)\n",
    "sm_score_10 = uplift_at_k(y_true=y_test, uplift=uplift_sm, treatment=treat_test, strategy='by_group', k=0.1)\n",
    "sm_score_20 = uplift_at_k(y_true=y_test, uplift=uplift_sm, treatment=treat_test, strategy='by_group', k=0.2)\n",
    "\n",
    "models_results['approach'].append('SoloModel')\n",
    "models_results['uplift@30%'].append(sm_score)\n",
    "\n",
    "models_results_10['approach'].append('SoloModel')\n",
    "models_results_10['uplift@10%'].append(sm_score_10)\n",
    "\n",
    "models_results_20['approach'].append('SoloModel')\n",
    "models_results_20['uplift@20%'].append(sm_score_20)\n",
    "\n",
    "# Получим условные вероятности выполнения целевого действия при взаимодействии для каждого объекта\n",
    "sm_trmnt_preds = sm.trmnt_preds_\n",
    "# И условные вероятности выполнения целевого действия без взаимодействия для каждого объекта\n",
    "sm_ctrl_preds = sm.ctrl_preds_\n",
    "\n",
    "# Отрисуем распределения вероятностей и их разность (uplift)\n",
    "plot_uplift_preds(trmnt_preds=sm_trmnt_preds, ctrl_preds=sm_ctrl_preds);"
   ]
  },
  {
   "cell_type": "code",
   "execution_count": 20,
   "metadata": {},
   "outputs": [
    {
     "data": {
      "text/html": [
       "<div>\n",
       "<style scoped>\n",
       "    .dataframe tbody tr th:only-of-type {\n",
       "        vertical-align: middle;\n",
       "    }\n",
       "\n",
       "    .dataframe tbody tr th {\n",
       "        vertical-align: top;\n",
       "    }\n",
       "\n",
       "    .dataframe thead th {\n",
       "        text-align: right;\n",
       "    }\n",
       "</style>\n",
       "<table border=\"1\" class=\"dataframe\">\n",
       "  <thead>\n",
       "    <tr style=\"text-align: right;\">\n",
       "      <th></th>\n",
       "      <th>feature_name</th>\n",
       "      <th>feature_score</th>\n",
       "    </tr>\n",
       "  </thead>\n",
       "  <tbody>\n",
       "    <tr>\n",
       "      <th>0</th>\n",
       "      <td>is_referral</td>\n",
       "      <td>20.778102</td>\n",
       "    </tr>\n",
       "    <tr>\n",
       "      <th>1</th>\n",
       "      <td>treatment</td>\n",
       "      <td>17.451616</td>\n",
       "    </tr>\n",
       "    <tr>\n",
       "      <th>2</th>\n",
       "      <td>recency</td>\n",
       "      <td>12.316129</td>\n",
       "    </tr>\n",
       "    <tr>\n",
       "      <th>3</th>\n",
       "      <td>zip_code</td>\n",
       "      <td>12.233417</td>\n",
       "    </tr>\n",
       "    <tr>\n",
       "      <th>4</th>\n",
       "      <td>used_bogo</td>\n",
       "      <td>11.428316</td>\n",
       "    </tr>\n",
       "    <tr>\n",
       "      <th>5</th>\n",
       "      <td>used_discount</td>\n",
       "      <td>9.079170</td>\n",
       "    </tr>\n",
       "    <tr>\n",
       "      <th>6</th>\n",
       "      <td>channel</td>\n",
       "      <td>8.921914</td>\n",
       "    </tr>\n",
       "    <tr>\n",
       "      <th>7</th>\n",
       "      <td>history</td>\n",
       "      <td>7.791336</td>\n",
       "    </tr>\n",
       "  </tbody>\n",
       "</table>\n",
       "</div>"
      ],
      "text/plain": [
       "    feature_name  feature_score\n",
       "0    is_referral      20.778102\n",
       "1      treatment      17.451616\n",
       "2        recency      12.316129\n",
       "3       zip_code      12.233417\n",
       "4      used_bogo      11.428316\n",
       "5  used_discount       9.079170\n",
       "6        channel       8.921914\n",
       "7        history       7.791336"
      ]
     },
     "execution_count": 20,
     "metadata": {},
     "output_type": "execute_result"
    }
   ],
   "source": [
    "sm_fi = pd.DataFrame({\n",
    "    'feature_name': sm.estimator.feature_names_,\n",
    "    'feature_score': sm.estimator.feature_importances_\n",
    "}).sort_values('feature_score', ascending=False).reset_index(drop=True)\n",
    "\n",
    "sm_fi"
   ]
  },
  {
   "cell_type": "markdown",
   "metadata": {},
   "source": [
    "#### Трансформация классов"
   ]
  },
  {
   "cell_type": "code",
   "execution_count": 21,
   "metadata": {},
   "outputs": [
    {
     "name": "stderr",
     "output_type": "stream",
     "text": [
      "C:\\Users\\gromo\\Anaconda3\\lib\\site-packages\\ipykernel_launcher.py:2: UserWarning: It is recommended to use this approach on treatment balanced data. Current sample size is unbalanced.\n",
      "  \n"
     ]
    }
   ],
   "source": [
    "ct = ClassTransformation(CatBoostClassifier(iterations=20, thread_count=2, random_state=42, silent=True))\n",
    "ct = ct.fit(X_train, y_train, treat_train, estimator_fit_params={'cat_features': cat_features})\n",
    "\n",
    "uplift_ct = ct.predict(X_test)\n",
    "\n",
    "ct_score = uplift_at_k(y_true=y_test, uplift=uplift_ct, treatment=treat_test, strategy='by_group', k=0.3)\n",
    "ct_score_10 = uplift_at_k(y_true=y_test, uplift=uplift_ct, treatment=treat_test, strategy='by_group', k=0.1)\n",
    "ct_score_20 = uplift_at_k(y_true=y_test, uplift=uplift_ct, treatment=treat_test, strategy='by_group', k=0.2)\n",
    "\n",
    "\n",
    "models_results['approach'].append('ClassTransformation')\n",
    "models_results['uplift@30%'].append(ct_score)\n",
    "\n",
    "models_results_10['approach'].append('ClassTransformation')\n",
    "models_results_10['uplift@10%'].append(ct_score_10)\n",
    "\n",
    "models_results_20['approach'].append('ClassTransformation')\n",
    "models_results_20['uplift@20%'].append(ct_score_20)\n",
    "\n"
   ]
  },
  {
   "cell_type": "code",
   "execution_count": 22,
   "metadata": {},
   "outputs": [
    {
     "data": {
      "image/png": "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\n",
      "text/plain": [
       "<Figure size 1440x504 with 3 Axes>"
      ]
     },
     "metadata": {
      "needs_background": "light"
     },
     "output_type": "display_data"
    }
   ],
   "source": [
    "plot_uplift_preds(trmnt_preds=sm_trmnt_preds, ctrl_preds=sm_ctrl_preds);"
   ]
  },
  {
   "cell_type": "markdown",
   "metadata": {},
   "source": [
    "#### Две независимые модели"
   ]
  },
  {
   "cell_type": "code",
   "execution_count": 23,
   "metadata": {},
   "outputs": [
    {
     "data": {
      "image/png": "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\n",
      "text/plain": [
       "<Figure size 1440x504 with 3 Axes>"
      ]
     },
     "metadata": {
      "needs_background": "light"
     },
     "output_type": "display_data"
    }
   ],
   "source": [
    "from sklift.models import TwoModels\n",
    "\n",
    "\n",
    "tm = TwoModels(\n",
    "    estimator_trmnt=CatBoostClassifier(iterations=20, thread_count=2, random_state=42, silent=True), \n",
    "    estimator_ctrl=CatBoostClassifier(iterations=20, thread_count=2, random_state=42, silent=True), \n",
    "    method='vanilla'\n",
    ")\n",
    "tm = tm.fit(\n",
    "    X_train, y_train, treat_train,\n",
    "    estimator_trmnt_fit_params={'cat_features': cat_features}, \n",
    "    estimator_ctrl_fit_params={'cat_features': cat_features}\n",
    ")\n",
    "\n",
    "uplift_tm = tm.predict(X_test)\n",
    "\n",
    "tm_score = uplift_at_k(y_true=y_test, uplift=uplift_tm, treatment=treat_test, strategy='by_group', k=0.3)\n",
    "tm_score_10 = uplift_at_k(y_true=y_test, uplift=uplift_tm, treatment=treat_test, strategy='by_group', k=0.1)\n",
    "tm_score_20 = uplift_at_k(y_true=y_test, uplift=uplift_tm, treatment=treat_test, strategy='by_group', k=0.2)\n",
    "\n",
    "models_results['approach'].append('TwoModels')\n",
    "models_results['uplift@30%'].append(tm_score)\n",
    "\n",
    "models_results_10['approach'].append('TwoModels')\n",
    "models_results_10['uplift@10%'].append(tm_score_10)\n",
    "\n",
    "models_results_20['approach'].append('TwoModels')\n",
    "models_results_20['uplift@20%'].append(tm_score_20)\n",
    "\n",
    "plot_uplift_preds(trmnt_preds=tm.trmnt_preds_, ctrl_preds=tm.ctrl_preds_);"
   ]
  },
  {
   "cell_type": "code",
   "execution_count": 24,
   "metadata": {},
   "outputs": [
    {
     "data": {
      "text/html": [
       "<div>\n",
       "<style scoped>\n",
       "    .dataframe tbody tr th:only-of-type {\n",
       "        vertical-align: middle;\n",
       "    }\n",
       "\n",
       "    .dataframe tbody tr th {\n",
       "        vertical-align: top;\n",
       "    }\n",
       "\n",
       "    .dataframe thead th {\n",
       "        text-align: right;\n",
       "    }\n",
       "</style>\n",
       "<table border=\"1\" class=\"dataframe\">\n",
       "  <thead>\n",
       "    <tr style=\"text-align: right;\">\n",
       "      <th></th>\n",
       "      <th>approach</th>\n",
       "      <th>uplift@10%</th>\n",
       "      <th>uplift@20%</th>\n",
       "      <th>uplift@30%</th>\n",
       "    </tr>\n",
       "  </thead>\n",
       "  <tbody>\n",
       "    <tr>\n",
       "      <th>1</th>\n",
       "      <td>ClassTransformation</td>\n",
       "      <td>0.263279</td>\n",
       "      <td>0.222239</td>\n",
       "      <td>0.193727</td>\n",
       "    </tr>\n",
       "    <tr>\n",
       "      <th>0</th>\n",
       "      <td>SoloModel</td>\n",
       "      <td>0.116699</td>\n",
       "      <td>0.098680</td>\n",
       "      <td>0.096586</td>\n",
       "    </tr>\n",
       "    <tr>\n",
       "      <th>2</th>\n",
       "      <td>TwoModels</td>\n",
       "      <td>0.091547</td>\n",
       "      <td>0.087252</td>\n",
       "      <td>0.090220</td>\n",
       "    </tr>\n",
       "  </tbody>\n",
       "</table>\n",
       "</div>"
      ],
      "text/plain": [
       "              approach  uplift@10%  uplift@20%  uplift@30%\n",
       "1  ClassTransformation    0.263279    0.222239    0.193727\n",
       "0            SoloModel    0.116699    0.098680    0.096586\n",
       "2            TwoModels    0.091547    0.087252    0.090220"
      ]
     },
     "execution_count": 24,
     "metadata": {},
     "output_type": "execute_result"
    }
   ],
   "source": [
    "up30 = pd.DataFrame(data=models_results).sort_values('uplift@30%', ascending=False)\n",
    "up20 = pd.DataFrame(data=models_results_20).sort_values('uplift@20%', ascending=False)\n",
    "up10 = pd.DataFrame(data=models_results_10).sort_values('uplift@10%', ascending=False)\n",
    "\n",
    "results = pd.concat([up10, up20['uplift@20%'], up30['uplift@30%']], axis=1)\n",
    "results"
   ]
  },
  {
   "cell_type": "code",
   "execution_count": null,
   "metadata": {},
   "outputs": [],
   "source": []
  }
 ],
 "metadata": {
  "kernelspec": {
   "display_name": "Python 3",
   "language": "python",
   "name": "python3"
  },
  "language_info": {
   "codemirror_mode": {
    "name": "ipython",
    "version": 3
   },
   "file_extension": ".py",
   "mimetype": "text/x-python",
   "name": "python",
   "nbconvert_exporter": "python",
   "pygments_lexer": "ipython3",
   "version": "3.7.6"
  }
 },
 "nbformat": 4,
 "nbformat_minor": 2
}
